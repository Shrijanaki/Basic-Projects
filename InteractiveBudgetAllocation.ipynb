{
  "nbformat": 4,
  "nbformat_minor": 0,
  "metadata": {
    "colab": {
      "provenance": [],
      "authorship_tag": "ABX9TyOQjmJjDv9AXMzhTrOwtUHz",
      "include_colab_link": true
    },
    "kernelspec": {
      "name": "python3",
      "display_name": "Python 3"
    },
    "language_info": {
      "name": "python"
    }
  },
  "cells": [
    {
      "cell_type": "markdown",
      "metadata": {
        "id": "view-in-github",
        "colab_type": "text"
      },
      "source": [
        "<a href=\"https://colab.research.google.com/github/Shrijanaki/Basic-Projects/blob/main/InteractiveBudgetAllocation.ipynb\" target=\"_parent\"><img src=\"https://colab.research.google.com/assets/colab-badge.svg\" alt=\"Open In Colab\"/></a>"
      ]
    },
    {
      "cell_type": "code",
      "source": [
        "Pre_savings = int(input(\"Enter your savings from previous months:\"))\n",
        "Person1_income = int(input(\"Enter Person1's income:\"))\n",
        "Person2_income = int(input(\"Enter Person2's income:\"))\n",
        "income = Pre_savings+Person1_income + Person2_income\n",
        "print(f\"Total Income: ₹{income}\")"
      ],
      "metadata": {
        "colab": {
          "base_uri": "https://localhost:8080/"
        },
        "id": "Jyf7ULMRjGJk",
        "outputId": "45457cd5-c764-48a7-9e60-8107ed87d349"
      },
      "execution_count": 99,
      "outputs": [
        {
          "output_type": "stream",
          "name": "stdout",
          "text": [
            "Enter your savings from previous months:0\n",
            "Enter Person1's income:20000\n",
            "Enter Person2's income:0\n",
            "Total Income: ₹20000\n"
          ]
        }
      ]
    },
    {
      "cell_type": "code",
      "source": [
        "#Fundamentals\n",
        "fundamentals_budget = income*0.5\n",
        "print(\"Budeget for fundamentals:\",fundamentals_budget)\n",
        "print(\"Enter the fundamental spendings:\")\n",
        "petrol = int(input(\"Petrol:\"))\n",
        "emi = int(input(\"EMI:\"))\n",
        "phone_recharge = int(input(\"Phone Recharge:\"))\n",
        "insurance = int(input(\"Insurance:\"))\n",
        "groceries = int(input(\"Groceries:\"))\n",
        "eb = int(input(\"EB:\"))\n",
        "amma = int(input(\"Amma:\"))\n",
        "netflix = int(input(\"Netflix:\"))\n",
        "\n",
        "fundamental_total= (petrol+emi+phone_recharge+insurance+groceries+eb+amma+netflix)\n",
        "print(f\"Total: ₹{fundamental_total}\")\n",
        "if fundamental_total > fundamentals_budget:\n",
        "  print(\"You're over budget. Adjust in Fun/Future\")\n",
        "if fundamental_total < fundamentals_budget:\n",
        "  print(\"You're under budget. Save it for EMI or spend it for some fun!\")\n",
        "\n",
        "excess = fundamentals_budget - fundamental_total\n",
        "print(f\"Excess: ₹{excess}\")"
      ],
      "metadata": {
        "colab": {
          "base_uri": "https://localhost:8080/"
        },
        "id": "RLdMJtwKxved",
        "outputId": "1320b3aa-cde9-4a0c-ce8d-233a68b10096"
      },
      "execution_count": 87,
      "outputs": [
        {
          "output_type": "stream",
          "name": "stdout",
          "text": [
            "Budeget for fundamentals: 58663.5\n",
            "Enter the fundamental spendings:\n",
            "Petrol:8000\n",
            "EMI:43500\n",
            "Phone Recharge:900\n",
            "Insurance:4000\n",
            "Groceries:2000\n",
            "EB:500\n",
            "Amma:0\n",
            "Netflix:499\n",
            "Total: ₹59399\n",
            "You're over budget. Adjust in Fun/Future\n",
            "Excess: ₹-735.5\n"
          ]
        }
      ]
    },
    {
      "cell_type": "code",
      "source": [
        "import random"
      ],
      "metadata": {
        "id": "r0B8r6L-3Md_"
      },
      "execution_count": 73,
      "outputs": []
    },
    {
      "cell_type": "code",
      "source": [
        "#Fun\n",
        "fun_total = income*0.2\n",
        "print(\"what did you do so far for fun this month?\")\n",
        "fun_spends = int(input(\"Enter the total amount:\"))\n",
        "fun_budget = round(income*0.2 - fun_spends)\n",
        "print(f\"Fun Budget: ₹{fun_budget}\")\n",
        "Fun = (\"Shopping\", \"dine out\", \"Movies\", \"Physical activities\", \"beach\", \"Gifts\", \"Something Different\" )\n",
        "choice=  random.choice(Fun)\n",
        "print(\"This week, you get to do:\", choice)\n",
        "print(\"And your budget for each week is:\", round(fun_budget/4))"
      ],
      "metadata": {
        "colab": {
          "base_uri": "https://localhost:8080/"
        },
        "id": "i9S1IwUoyXm_",
        "outputId": "331481e8-544c-4098-f905-87888e7ac123"
      },
      "execution_count": 88,
      "outputs": [
        {
          "output_type": "stream",
          "name": "stdout",
          "text": [
            "what did you do so far for fun this month?\n",
            "Enter the total amount:0\n",
            "Fun Budget: ₹23465\n",
            "This week, you get to do: dine out\n",
            "And your budget for each week is: 5866\n"
          ]
        }
      ]
    },
    {
      "cell_type": "code",
      "source": [
        "#Future\n",
        "future_budget=income*0.2\n",
        "print(f\"Future Budget: ₹{future_budget}\")\n",
        "print(\"Enter your investments:\")\n",
        "RD = int(input(\"RD:\"))\n",
        "Mutual_Funds = int(input(\"Mutual Funds:\"))\n",
        "gold = int(input(\"Gold:\"))\n",
        "vacation = int(input(\"Vacation:\"))\n",
        "self_dev = int(input(\"Self Development:\"))\n",
        "\n",
        "if RD == 0:\n",
        "  print(\"You have not invested in RD. Try investing next month!\")\n",
        "if Mutual_Funds == 0:\n",
        "  print(\"You have not invested in Mutual Funds. Try investing next month!\")\n",
        "if gold == 0:\n",
        "  print(\"You have not invested in Gold. Try investing next month!\")\n",
        "if vacation == 0:\n",
        "  print(\"You have not invested in Vacation. Try investing next month!\")\n",
        "if self_dev == 0:\n",
        "  print(\"You have not invested in Self Development. Try investing next month!\")\n",
        "investments = (RD+Mutual_Funds+gold+vacation+self_dev)\n",
        "print(f\"Total: ₹{investments}\")\n",
        "\n",
        "if investments > future_budget:\n",
        "  print(\"You're over budget. Adjust in Fundamentals\")\n",
        "if investments < future_budget:\n",
        "  print(\"You're under budget. Save it for EMI or spend it for some fun!\")\n",
        "\n",
        "excess_future = round(future_budget - investments)\n",
        "print(f\"Excess: ₹{excess_future}\")"
      ],
      "metadata": {
        "colab": {
          "base_uri": "https://localhost:8080/"
        },
        "id": "pREGOtNOyb3H",
        "outputId": "efb2459b-bd30-42e0-bbf9-62f825829112"
      },
      "execution_count": 90,
      "outputs": [
        {
          "output_type": "stream",
          "name": "stdout",
          "text": [
            "Future Budget: ₹23465.4\n",
            "Enter your investments:\n",
            "RD:0\n",
            "Mutual Funds:5000\n",
            "Gold:5000\n",
            "Vacation:2000\n",
            "Self Development:0\n",
            "You have not invested in RD. Try investing next month!\n",
            "You have not invested in Self Development. Try investing next month!\n",
            "Total: ₹12000\n",
            "You're under budget. Save it for EMI or spend it for some fun!\n",
            "Excess: ₹11465\n"
          ]
        }
      ]
    },
    {
      "cell_type": "code",
      "source": [
        "#Extra EMI - letfovers-savings\n",
        "\n",
        "expenses = (fundamental_total+fun_total+investments)\n",
        "extra = round(income - expenses)\n",
        "print(f\"Extra: ₹{extra}\")\n",
        "savings = round(extra*0.5)\n",
        "extra_emi = round(extra*0.5)\n",
        "\n",
        "add_emi = round(extra_emi+excess_future+excess)\n",
        "print(f\"Save ₹{savings} this month\")\n",
        "print(f\"You can pay ₹{add_emi} extra EMI\")"
      ],
      "metadata": {
        "colab": {
          "base_uri": "https://localhost:8080/"
        },
        "id": "zfIiRBCuyln8",
        "outputId": "83c6a007-0744-413c-d837-75aaee6ac911"
      },
      "execution_count": 96,
      "outputs": [
        {
          "output_type": "stream",
          "name": "stdout",
          "text": [
            "Extra: ₹22463\n",
            "Save ₹11232 this month\n",
            "You can pay ₹21962 extra EMI\n"
          ]
        }
      ]
    },
    {
      "cell_type": "code",
      "source": [
        "print(f\"Here is an overview of this month:\")\n",
        "print(f\"Fundamentals: ₹{round(fundamental_total)}\")\n",
        "print(f\"Fun: ₹{round(fun_total)}\")\n",
        "print(f\"Future: ₹{investments}\")\n",
        "print(f\"Total: ₹{round(expenses)}\")\n",
        "print(f\"Extra: ₹{round(extra)}\")\n",
        "print(f\"Savings: ₹{round(savings)}\")\n",
        "print(f\"Extra EMI: ₹{round(add_emi)}\")"
      ],
      "metadata": {
        "colab": {
          "base_uri": "https://localhost:8080/"
        },
        "id": "RpSIrwpcEfoI",
        "outputId": "6d6abe7b-2374-4f50-85a8-2a9f1c9ff989"
      },
      "execution_count": 97,
      "outputs": [
        {
          "output_type": "stream",
          "name": "stdout",
          "text": [
            "Here is an overview of this month:\n",
            "Fundamentals: ₹59399\n",
            "Fun: ₹23465\n",
            "Future: ₹12000\n",
            "Total: ₹94864\n",
            "Extra: ₹22463\n",
            "Savings: ₹11232\n",
            "Extra EMI: ₹21962\n"
          ]
        }
      ]
    }
  ]
}